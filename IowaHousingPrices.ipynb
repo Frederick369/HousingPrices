{
  "cells": [
    {
      "metadata": {
        "_cell_guid": "e81ee64d-e474-4662-9036-ce23df615199",
        "_uuid": "b6269c0e8f417f82daf093dda8fa0da6d2c57d86"
      },
      "cell_type": "markdown",
      "source": "# Introduction\n**This is my introduction to Kaggle's Datasets using Machine Learning**\n\nI will be building and continually testing/optimizing models to predict the Iowa housing prices.\nThe specific models I will be using are: \nDecision Trees\nRandom Forest\nGradient Boosted Forests\n\n# Code\n\n"
    },
    {
      "metadata": {
        "_uuid": "1c728098629e1301643443b1341556a15c089b2b",
        "_cell_guid": "86b26423-563a-4fa1-a595-89e25ff93089",
        "scrolled": false,
        "collapsed": true,
        "trusted": false
      },
      "cell_type": "code",
      "source": "import pandas as pd\n# read in files \nmain_file_path = '../input/train.csv'\ndata = pd.read_csv(main_file_path)",
      "execution_count": null,
      "outputs": []
    },
    {
      "metadata": {
        "_cell_guid": "2d09498e-1279-42a2-a66f-e7089491bbd5",
        "_uuid": "476c7f95c872493b688c63fd0dc443668080569f",
        "trusted": false,
        "collapsed": true
      },
      "cell_type": "code",
      "source": "# look at the data\nprint(data.describe())\nprint(data.columns)\nprint(data.SalePrice.head())\nprint(data[['LotArea','YearBuilt','Condition1']].describe())",
      "execution_count": null,
      "outputs": []
    },
    {
      "metadata": {
        "_cell_guid": "0a18a148-eea5-49be-8d18-db529d95166e",
        "_uuid": "66593e7a3dacc66d3ff49bb4cc9609c8daa94719",
        "trusted": false,
        "collapsed": true
      },
      "cell_type": "code",
      "source": "# label targets and indicators\ny = data.SalePrice\n#arbitrarily chosen indicators -- will change in time\nX = data[['LotArea','YearBuilt','1stFlrSF', '2ndFlrSF', 'FullBath','BedroomAbvGr','TotRmsAbvGrd']]\nX.describe()",
      "execution_count": null,
      "outputs": []
    },
    {
      "metadata": {
        "_cell_guid": "c56205fc-5692-45c6-a5e3-46dc3830b3c0",
        "_uuid": "d1c6e7ed0205670074b05526b02d2db9c8fd90af",
        "trusted": false,
        "collapsed": true
      },
      "cell_type": "code",
      "source": "# Try first: Decision trees\nfrom sklearn.tree import DecisionTreeRegressor\nfrom sklearn.model_selection import train_test_split # required to be able to split the data\n\ntree_model = DecisionTreeRegressor()\ntrain_X, val_X, train_y, val_y = train_test_split(X,y,random_state = 0)\ntree_model.fit(train_X,train_y)",
      "execution_count": null,
      "outputs": []
    },
    {
      "metadata": {
        "_cell_guid": "3d04f873-3d6e-4993-a1da-b049fb57f074",
        "_uuid": "b014f3d93ac6c4447347cbc4ef34ecb6d3008614",
        "trusted": false,
        "collapsed": true
      },
      "cell_type": "code",
      "source": "# test how effective it is\nfrom sklearn.metrics import mean_absolute_error # required to get mean-squared error\n\npredictions = tree_model.predict(val_X)\nmean_absolute_error(val_y,predictions)\n#33038.54 ...",
      "execution_count": null,
      "outputs": []
    },
    {
      "metadata": {
        "_cell_guid": "25534b89-72d6-43ed-8f2e-84167c9b8ee1",
        "_uuid": "8d913d407a9ad4debefdcd134a10263e335000c5",
        "trusted": false,
        "collapsed": true
      },
      "cell_type": "code",
      "source": "# Optimizing parameters\n# this function calculates the max tree nodes in some model -- we're testing the number of nodes\ndef get_mae(max_leaf_nodes, predictors_train, predictors_val, targ_train, targ_val):\n    model = DecisionTreeRegressor(max_leaf_nodes=max_leaf_nodes, random_state=0) # specifying the number of nodes\n    model.fit(predictors_train, targ_train)\n    preds_val = model.predict(predictors_val)\n    mae = mean_absolute_error(targ_val, preds_val)\n    return(mae)\n# testing for varying number of nodes\nfor max_leaf_nodes in [5, 25, 50, 100, 150, 500]:\n    my_mae = get_mae(max_leaf_nodes, train_X, val_X, train_y, val_y)\n    print(\"Max leaf nodes: %d  \\t\\t Mean Absolute Error:  %d\" %(max_leaf_nodes, my_mae))\n    # it looks like 50 works the best",
      "execution_count": null,
      "outputs": []
    },
    {
      "metadata": {
        "_cell_guid": "3ea6b0b6-fa6c-4d63-8360-d04742ee51f6",
        "_uuid": "a52aba0921f50388456985b622bc957176339e14",
        "trusted": false,
        "collapsed": true
      },
      "cell_type": "code",
      "source": "# Testing with Random Forest\nfrom sklearn.ensemble import RandomForestRegressor\nforest_model = RandomForestRegressor()\nforest_model.fit(train_X,train_y)\nfor_pred = forest_model.predict(val_X)\nmean_absolute_error(val_y,for_pred)\n#24228.964...",
      "execution_count": null,
      "outputs": []
    },
    {
      "metadata": {
        "_cell_guid": "9badd5f1-9776-420a-a99d-657aebde8ed4",
        "_uuid": "6bcba1501d24d06c5e06c6b0c6549725b99a935d",
        "trusted": false,
        "collapsed": true
      },
      "cell_type": "code",
      "source": "# repetition with NULL value columns as well\n# testing different kinds of method\nfrom sklearn.preprocessing import Imputer\n\ndef score_dataset(X_train, X_test, y_train, y_test):\n    model = RandomForestRegressor()\n    model.fit(X_train, y_train)\n    preds = model.predict(X_test)\n    return mean_absolute_error(y_test, preds)\n\n#print(data.isnull().sum())\nnum_pred = data.drop(['SalePrice'], axis = 1).select_dtypes(exclude=['object'])\n\n\n#  1. Drop values\nmissing_cols = [col for col in train_X.columns if train_X[col].isnull().any()]\nredX_train = train_X.drop(missing_cols, axis = 1)\nredX_val = val_X.drop(missing_cols, axis = 1)\nprint(score_dataset(redX_train,redX_val,train_y,val_y))\n#24559.1318\n\n# 2. Imputer\nimputer = Imputer()\nimpX_train = imputer.fit_transform(train_X)\nimpX_test = imputer.transform(val_X)\nprint(score_dataset(impX_train,impX_test,train_y,val_y))\n#24089.974\n\n# 3. Imputer + Extension\nfor col in missing_cols:\n    impeX_train[col + '_was_missing'] = impeX_train[col].isnull()\n    impeX_test[col+ '_was_missing'] = impeX_test[col].isnull()\n    \nimpeX_train = imputer.fit_transform(train_X)\nimpeX_test = imputer.transform(val_X)\nprint(score_dataset(impeX_train,impeX_test,train_y,val_y))\n#23819.76\n#they all do about the same in this dataset",
      "execution_count": null,
      "outputs": []
    },
    {
      "metadata": {
        "_uuid": "811b86a09f8543d601b110902fa09db00c0940ce",
        "_cell_guid": "3b7887b4-c64c-4e2c-9a67-e03070bcc457",
        "collapsed": true,
        "trusted": false
      },
      "cell_type": "code",
      "source": "# one-hot encoding \n# ohpred = pd.get_dummies(train_predictors) , where train_predictors is a set of predictors\n# -1*cross_val_score(RandomForestRegressor(50), ohpred, y, scoring = \"neg_mean_absolute_error).mean()",
      "execution_count": null,
      "outputs": []
    },
    {
      "metadata": {
        "_cell_guid": "83fcb241-02ec-4b6d-8955-77ac63c83bee",
        "_uuid": "c02f33913d1f7f9d10694a7e9884b38c40fd4083",
        "trusted": false,
        "collapsed": true
      },
      "cell_type": "code",
      "source": "# Testing with XGBoost -- Gradient Boosted Decision Trees\n# care X has been renamed\nX2 = data.drop('SalePrice',axis=1).select_dtypes(exclude='object')\nX_train,X_test,y_train,y_test = train_test_split(X2.as_matrix(), y.as_matrix(), test_size = 0.25)\nX_train = imputer.fit_transform(X_train)\nX_test = imputer.transform(X_test)\n\nfrom xgboost import XGBRegressor\nxgb_model = XGBRegressor(silent = True)\nxgb_model.fit(X_train,y_train,verbose = False)\nxgbpred = xgb_model.predict(X_test)\nprint(\"Default: %d\\t\",mean_absolute_error(xgbpred,y_test))\n# 16263.669\n\n\nmodel = XGBRegressor(n_estimators = 300, learning_rate = 0.05, silent = True)\nmodel.fit(X_train,y_train, early_stopping_rounds = 5, eval_set=[(X_test,y_test)],verbose = False)\npreds = model.predict(X_test)\nprint(\"With 10 early stopping value, we get mae = %f \\t\\t\" %(mean_absolute_error(preds,y_test)))\n# It doesn't seem like tuning parameters does too much in this case",
      "execution_count": null,
      "outputs": []
    },
    {
      "metadata": {
        "_cell_guid": "3bf4f4f5-848c-4d7a-ae58-a3b3f16cafd3",
        "_uuid": "67c4189ced60a1e9fa96792cee12760390c850ed",
        "trusted": false,
        "collapsed": true
      },
      "cell_type": "code",
      "source": "# Working on partial dependence plots\nfrom sklearn.ensemble import GradientBoostingRegressor, GradientBoostingClassifier\nfrom sklearn.ensemble.partial_dependence import partial_dependence, plot_partial_dependence\n\n#data.columns\n#MoSold, GarageYrBlt,1stFlrSF look interesting\ncols = ['1stFlrSF','GarageYrBlt','MoSold']\npartX = data[cols]\nimpartX = imputer.fit_transform(partX)\nGBModel = GradientBoostingRegressor()\nGBModel.fit(impartX,y)\nplots = plot_partial_dependence(GBModel,features=[0,2], X=impartX, feature_names=cols,grid_resolution = 100)\n# surprising results: I expected prices to change based off months",
      "execution_count": null,
      "outputs": []
    },
    {
      "metadata": {
        "_cell_guid": "5f89edf3-1dac-4a78-b384-75f800293388",
        "_uuid": "5572acbf198cbe070fe17c1736a0125ae4fc4fb5",
        "trusted": false,
        "collapsed": true
      },
      "cell_type": "code",
      "source": "# pipeline version of code and implement cross-validation\nfrom sklearn.pipeline import make_pipeline\n\npipeline = make_pipeline(Imputer(),RandomForestRegressor())\npipeline.fit(train_X, train_y)\n\nfrom sklearn.model_selection import cross_val_score\nscores = cross_val_score(pipeline, val_X, val_y,scoring = \"neg_mean_absolute_error\")\nprint(scores)\nprint(\"\\t%f\" %(-1*scores.mean()))",
      "execution_count": null,
      "outputs": []
    },
    {
      "metadata": {
        "_cell_guid": "1c8c6014-a8bb-4ede-ab32-6b1d49856d15",
        "_uuid": "50d9bd898d3f7bbb54e6ae06f2e7718965337408",
        "trusted": false,
        "collapsed": true
      },
      "cell_type": "code",
      "source": "# Completion of data track!\nprint(\"Hurray! We're done!\")",
      "execution_count": null,
      "outputs": []
    },
    {
      "metadata": {
        "_uuid": "7f4c77b9d6379bf28f70e146b31247be0666a989",
        "_cell_guid": "96c5f82d-834c-4747-b2db-e5b8de7b0023",
        "collapsed": true,
        "trusted": false
      },
      "cell_type": "code",
      "source": "",
      "execution_count": null,
      "outputs": []
    }
  ],
  "metadata": {
    "kernelspec": {
      "display_name": "Python 3",
      "language": "python",
      "name": "python3"
    },
    "language_info": {
      "name": "python",
      "version": "3.6.5",
      "mimetype": "text/x-python",
      "codemirror_mode": {
        "name": "ipython",
        "version": 3
      },
      "pygments_lexer": "ipython3",
      "nbconvert_exporter": "python",
      "file_extension": ".py"
    }
  },
  "nbformat": 4,
  "nbformat_minor": 1
}